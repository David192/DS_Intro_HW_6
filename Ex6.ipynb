{
 "cells": [
  {
   "cell_type": "markdown",
   "id": "2b5a36f7",
   "metadata": {},
   "source": [
    "Assignment 5"
   ]
  },
  {
   "cell_type": "code",
   "execution_count": 1,
   "id": "a387a778",
   "metadata": {},
   "outputs": [],
   "source": [
    "import pandas as pd\n",
    "import numpy as np\n",
    "import requests\n",
    "import json\n",
    "\n",
    "from bs4 import BeautifulSoup as bf\n",
    "from typing import Tuple, List, Dict"
   ]
  },
  {
   "cell_type": "code",
   "execution_count": 2,
   "id": "739688e9",
   "metadata": {},
   "outputs": [
    {
     "data": {
      "text/html": [
       "<div>\n",
       "<style scoped>\n",
       "    .dataframe tbody tr th:only-of-type {\n",
       "        vertical-align: middle;\n",
       "    }\n",
       "\n",
       "    .dataframe tbody tr th {\n",
       "        vertical-align: top;\n",
       "    }\n",
       "\n",
       "    .dataframe thead th {\n",
       "        text-align: right;\n",
       "    }\n",
       "</style>\n",
       "<table border=\"1\" class=\"dataframe\">\n",
       "  <thead>\n",
       "    <tr style=\"text-align: right;\">\n",
       "      <th></th>\n",
       "      <th>city</th>\n",
       "      <th>city_LP</th>\n",
       "    </tr>\n",
       "  </thead>\n",
       "  <tbody>\n",
       "    <tr>\n",
       "      <th>0</th>\n",
       "      <td>Antalya</td>\n",
       "      <td>mediterranean-coast/antalya</td>\n",
       "    </tr>\n",
       "    <tr>\n",
       "      <th>1</th>\n",
       "      <td>Athens</td>\n",
       "      <td>Athens</td>\n",
       "    </tr>\n",
       "    <tr>\n",
       "      <th>2</th>\n",
       "      <td>Ayia-napa</td>\n",
       "      <td>the-republic-of-cyprus/Agia-napa</td>\n",
       "    </tr>\n",
       "    <tr>\n",
       "      <th>3</th>\n",
       "      <td>Bangkok</td>\n",
       "      <td>Bangkok</td>\n",
       "    </tr>\n",
       "    <tr>\n",
       "      <th>4</th>\n",
       "      <td>Barcelona</td>\n",
       "      <td>Barcelona</td>\n",
       "    </tr>\n",
       "    <tr>\n",
       "      <th>...</th>\n",
       "      <td>...</td>\n",
       "      <td>...</td>\n",
       "    </tr>\n",
       "    <tr>\n",
       "      <th>71</th>\n",
       "      <td>Venice</td>\n",
       "      <td>Venice</td>\n",
       "    </tr>\n",
       "    <tr>\n",
       "      <th>72</th>\n",
       "      <td>Vienna</td>\n",
       "      <td>Vienna</td>\n",
       "    </tr>\n",
       "    <tr>\n",
       "      <th>73</th>\n",
       "      <td>Warsaw</td>\n",
       "      <td>Warsaw</td>\n",
       "    </tr>\n",
       "    <tr>\n",
       "      <th>74</th>\n",
       "      <td>Zakynthos</td>\n",
       "      <td>Zakynthos</td>\n",
       "    </tr>\n",
       "    <tr>\n",
       "      <th>75</th>\n",
       "      <td>Zurich</td>\n",
       "      <td>Zurich</td>\n",
       "    </tr>\n",
       "  </tbody>\n",
       "</table>\n",
       "<p>76 rows × 2 columns</p>\n",
       "</div>"
      ],
      "text/plain": [
       "         city                           city_LP\n",
       "0     Antalya       mediterranean-coast/antalya\n",
       "1      Athens                            Athens\n",
       "2   Ayia-napa  the-republic-of-cyprus/Agia-napa\n",
       "3     Bangkok                           Bangkok\n",
       "4   Barcelona                         Barcelona\n",
       "..        ...                               ...\n",
       "71     Venice                            Venice\n",
       "72     Vienna                            Vienna\n",
       "73     Warsaw                            Warsaw\n",
       "74  Zakynthos                         Zakynthos\n",
       "75     Zurich                            Zurich\n",
       "\n",
       "[76 rows x 2 columns]"
      ]
     },
     "execution_count": 2,
     "metadata": {},
     "output_type": "execute_result"
    }
   ],
   "source": [
    "api_key = '{Api_key}'\n",
    "path=r\"C:\\Users\\David Sofer\\Desktop\\David\\python\"\n",
    "fileName=\"\\destinations_LP_crawler_Ex5.csv\"\n",
    "try:\n",
    "    df=pd.read_csv(path+fileName,encoding='ISO-8859-1')\n",
    "except:\n",
    "    print(\"File not found, try again\")\n",
    "df"
   ]
  },
  {
   "cell_type": "code",
   "execution_count": 3,
   "id": "e5fb95f8",
   "metadata": {},
   "outputs": [],
   "source": [
    "def get_city_data(address: list, api_key: str):\n",
    "    url = \"https://maps.googleapis.com/maps/api/geocode/json?address=%s&key=%s\" % (address,api_key)\n",
    "    try:\n",
    "        response = requests.get(url)\n",
    "        if not response.status_code == 200:\n",
    "            print(\"HTTP error\", response.status_code)\n",
    "        else:\n",
    "            try:\n",
    "                response_data = response.json()\n",
    "            except:\n",
    "                print(\"Response not in valid JSON format\")\n",
    "    except:\n",
    "        print(\"requests.get doesn't work properly\")\n",
    "\n",
    "    return response_data"
   ]
  },
  {
   "cell_type": "code",
   "execution_count": 4,
   "id": "6784b4b2",
   "metadata": {},
   "outputs": [
    {
     "data": {
      "text/plain": [
       "['Turkey',\n",
       " 'Greece',\n",
       " 'Cyprus',\n",
       " 'Thailand',\n",
       " 'Spain',\n",
       " 'Switzerland',\n",
       " 'Georgia',\n",
       " 'China',\n",
       " 'Germany',\n",
       " 'USA',\n",
       " 'Slovakia',\n",
       " 'Belgium',\n",
       " 'Romania',\n",
       " 'Hungary',\n",
       " 'Bulgaria',\n",
       " 'Mexico',\n",
       " 'Italy',\n",
       " 'Thailand',\n",
       " 'Germany',\n",
       " 'Greece',\n",
       " 'Spain',\n",
       " 'Greece',\n",
       " 'NULL',\n",
       " 'India',\n",
       " 'Germany',\n",
       " 'Ireland',\n",
       " 'Croatia',\n",
       " 'Germany',\n",
       " 'Italy',\n",
       " 'Germany',\n",
       " 'Switzerland',\n",
       " 'China',\n",
       " 'Germany',\n",
       " 'Austria',\n",
       " 'Turkey',\n",
       " 'Greece',\n",
       " 'Thailand',\n",
       " '02000',\n",
       " 'Cyprus',\n",
       " 'USA',\n",
       " 'Cyprus',\n",
       " 'Portugal',\n",
       " 'Slovenia',\n",
       " 'USA',\n",
       " 'Spain',\n",
       " 'Philippines',\n",
       " 'France',\n",
       " 'Mexico',\n",
       " 'USA',\n",
       " 'Italy',\n",
       " 'Russia',\n",
       " 'India',\n",
       " 'Germany',\n",
       " 'Greece',\n",
       " 'Italy',\n",
       " 'France',\n",
       " '65000',\n",
       " 'France',\n",
       " 'Thailand',\n",
       " 'Greece',\n",
       " 'Italy',\n",
       " 'Austria',\n",
       " 'USA',\n",
       " 'China',\n",
       " 'Bulgaria',\n",
       " 'Russia',\n",
       " 'Germany',\n",
       " 'Taiwan',\n",
       " 'Georgia',\n",
       " 'Greece',\n",
       " 'Canada',\n",
       " 'Italy',\n",
       " 'Austria',\n",
       " 'Poland',\n",
       " 'Greece',\n",
       " 'Switzerland']"
      ]
     },
     "execution_count": 4,
     "metadata": {},
     "output_type": "execute_result"
    }
   ],
   "source": [
    "countries_list=[]\n",
    "for row in df.itertuples(index=True, name='df'):\n",
    "    get_country = get_city_data(row.city, api_key)\n",
    "    if get_country['status']=='ZERO_RESULTS':\n",
    "        countries_list.append(\"NULL\")\n",
    "        continue\n",
    "    countries_list.append(get_country['results'][0]['formatted_address'].split(',')[-1].strip().replace(\" \",\"\"))\n",
    "countries_list"
   ]
  },
  {
   "cell_type": "code",
   "execution_count": 5,
   "id": "fd98da0d",
   "metadata": {},
   "outputs": [],
   "source": [
    "df.insert(2, 'Countries', countries_list)"
   ]
  },
  {
   "cell_type": "code",
   "execution_count": 6,
   "id": "c51eef41",
   "metadata": {},
   "outputs": [],
   "source": [
    "from bs4 import BeautifulSoup as bf\n",
    "\n",
    "def get_country_description(city_url):\n",
    "    try:\n",
    "        response = requests.get(city_url)\n",
    "        if not response.status_code == 200:\n",
    "            print(\"HTTP error\", response.status_code)\n",
    "        else:\n",
    "            try:\n",
    "                soup = bf(response.content,'html.parser')\n",
    "                for div in soup.find_all(\"div\", class_ = \"readMore_content___5EuR relative overflow-hidden max-h-96 is-max wysiwyg\"):\n",
    "                    return div.get_text()\n",
    "            except:\n",
    "                print(\"Response not in valid HTML format\")\n",
    "    except:\n",
    "        print(\"requests.get doesn't work properly\")"
   ]
  },
  {
   "cell_type": "code",
   "execution_count": 7,
   "id": "41fcfe02",
   "metadata": {},
   "outputs": [],
   "source": [
    "df.insert(3, 'Description', \"NULL\")"
   ]
  },
  {
   "cell_type": "code",
   "execution_count": 8,
   "id": "a002f294",
   "metadata": {},
   "outputs": [
    {
     "name": "stdout",
     "output_type": "stream",
     "text": [
      "HTTP error 403\n",
      "HTTP error 403\n",
      "HTTP error 403\n"
     ]
    }
   ],
   "source": [
    "for index, row in df.iterrows():\n",
    "    city_url = \"https://www.lonelyplanet.com\"\n",
    "    city_url +=\"/\" +row[\"Countries\"]+ \"/\" + row[\"city_LP\"]\n",
    "    row[\"Description\"]=get_country_description(city_url)"
   ]
  },
  {
   "cell_type": "code",
   "execution_count": 9,
   "id": "de419641",
   "metadata": {},
   "outputs": [],
   "source": [
    "data = {'City': df['city'], 'Country': df['Countries'], 'Description': df['Description']}\n",
    "detailed_frame = pd.DataFrame(data)\n",
    "detailed_frame.to_csv(r\"C:\\Users\\David Sofer\\Desktop\\David\\python\\LP_destinations.csv\")\n"
   ]
  },
  {
   "cell_type": "code",
   "execution_count": 10,
   "id": "ec67a0b0",
   "metadata": {},
   "outputs": [
    {
     "data": {
      "text/html": [
       "<div>\n",
       "<style scoped>\n",
       "    .dataframe tbody tr th:only-of-type {\n",
       "        vertical-align: middle;\n",
       "    }\n",
       "\n",
       "    .dataframe tbody tr th {\n",
       "        vertical-align: top;\n",
       "    }\n",
       "\n",
       "    .dataframe thead th {\n",
       "        text-align: right;\n",
       "    }\n",
       "</style>\n",
       "<table border=\"1\" class=\"dataframe\">\n",
       "  <thead>\n",
       "    <tr style=\"text-align: right;\">\n",
       "      <th></th>\n",
       "      <th>City</th>\n",
       "      <th>Country</th>\n",
       "      <th>Description</th>\n",
       "    </tr>\n",
       "  </thead>\n",
       "  <tbody>\n",
       "    <tr>\n",
       "      <th>0</th>\n",
       "      <td>Antalya</td>\n",
       "      <td>Turkey</td>\n",
       "      <td>Once seen simply as the gateway to the Turkish...</td>\n",
       "    </tr>\n",
       "    <tr>\n",
       "      <th>1</th>\n",
       "      <td>Athens</td>\n",
       "      <td>Greece</td>\n",
       "      <td>With equal measures of grunge and grace, Athen...</td>\n",
       "    </tr>\n",
       "    <tr>\n",
       "      <th>2</th>\n",
       "      <td>Ayia-napa</td>\n",
       "      <td>Cyprus</td>\n",
       "      <td>Endless blue-sky days and a coastline riddled ...</td>\n",
       "    </tr>\n",
       "    <tr>\n",
       "      <th>3</th>\n",
       "      <td>Bangkok</td>\n",
       "      <td>Thailand</td>\n",
       "      <td>Same same, but different. This Thailish T-shir...</td>\n",
       "    </tr>\n",
       "    <tr>\n",
       "      <th>4</th>\n",
       "      <td>Barcelona</td>\n",
       "      <td>Spain</td>\n",
       "      <td>Barcelona is an enchanting seaside city with b...</td>\n",
       "    </tr>\n",
       "    <tr>\n",
       "      <th>...</th>\n",
       "      <td>...</td>\n",
       "      <td>...</td>\n",
       "      <td>...</td>\n",
       "    </tr>\n",
       "    <tr>\n",
       "      <th>71</th>\n",
       "      <td>Venice</td>\n",
       "      <td>Italy</td>\n",
       "      <td>Imagine the audacity of building a city of mar...</td>\n",
       "    </tr>\n",
       "    <tr>\n",
       "      <th>72</th>\n",
       "      <td>Vienna</td>\n",
       "      <td>Austria</td>\n",
       "      <td>Baroque streetscapes and imperial palaces set ...</td>\n",
       "    </tr>\n",
       "    <tr>\n",
       "      <th>73</th>\n",
       "      <td>Warsaw</td>\n",
       "      <td>Poland</td>\n",
       "      <td>A phoenix arisen from the ashes, Poland's capi...</td>\n",
       "    </tr>\n",
       "    <tr>\n",
       "      <th>74</th>\n",
       "      <td>Zakynthos</td>\n",
       "      <td>Greece</td>\n",
       "      <td>Zakynthos, also known by its Italian name Zant...</td>\n",
       "    </tr>\n",
       "    <tr>\n",
       "      <th>75</th>\n",
       "      <td>Zurich</td>\n",
       "      <td>Switzerland</td>\n",
       "      <td>Culturally vibrant, efficiently run and attrac...</td>\n",
       "    </tr>\n",
       "  </tbody>\n",
       "</table>\n",
       "<p>76 rows × 3 columns</p>\n",
       "</div>"
      ],
      "text/plain": [
       "         City      Country                                        Description\n",
       "0     Antalya       Turkey  Once seen simply as the gateway to the Turkish...\n",
       "1      Athens       Greece  With equal measures of grunge and grace, Athen...\n",
       "2   Ayia-napa       Cyprus  Endless blue-sky days and a coastline riddled ...\n",
       "3     Bangkok     Thailand  Same same, but different. This Thailish T-shir...\n",
       "4   Barcelona        Spain  Barcelona is an enchanting seaside city with b...\n",
       "..        ...          ...                                                ...\n",
       "71     Venice        Italy  Imagine the audacity of building a city of mar...\n",
       "72     Vienna      Austria  Baroque streetscapes and imperial palaces set ...\n",
       "73     Warsaw       Poland  A phoenix arisen from the ashes, Poland's capi...\n",
       "74  Zakynthos       Greece  Zakynthos, also known by its Italian name Zant...\n",
       "75     Zurich  Switzerland  Culturally vibrant, efficiently run and attrac...\n",
       "\n",
       "[76 rows x 3 columns]"
      ]
     },
     "execution_count": 10,
     "metadata": {},
     "output_type": "execute_result"
    }
   ],
   "source": [
    "detailed_frame"
   ]
  },
  {
   "cell_type": "markdown",
   "id": "3fa48e19",
   "metadata": {},
   "source": [
    "Assignment 6 \n",
    "Formating the dataframe created above"
   ]
  },
  {
   "cell_type": "code",
   "execution_count": 11,
   "id": "74d425c4",
   "metadata": {},
   "outputs": [],
   "source": [
    "detailed_frame.insert(3, 'num_of_words', \"NULL\")\n",
    "detailed_frame['num_of_words'] = detailed_frame.Description.apply(lambda x: len(str(x).split(' ')))\n"
   ]
  },
  {
   "cell_type": "code",
   "execution_count": 90,
   "id": "8fa22bb6",
   "metadata": {},
   "outputs": [
    {
     "ename": "ValueError",
     "evalue": "cannot insert No_punct_description, already exists",
     "output_type": "error",
     "traceback": [
      "\u001b[1;31m---------------------------------------------------------------------------\u001b[0m",
      "\u001b[1;31mValueError\u001b[0m                                Traceback (most recent call last)",
      "\u001b[1;32mC:\\Users\\DAVIDS~1\\AppData\\Local\\Temp/ipykernel_13992/3846569225.py\u001b[0m in \u001b[0;36m<module>\u001b[1;34m\u001b[0m\n\u001b[1;32m----> 1\u001b[1;33m \u001b[0mdetailed_frame\u001b[0m\u001b[1;33m.\u001b[0m\u001b[0minsert\u001b[0m\u001b[1;33m(\u001b[0m\u001b[1;36m4\u001b[0m\u001b[1;33m,\u001b[0m \u001b[1;34m'No_punct_description'\u001b[0m\u001b[1;33m,\u001b[0m \u001b[1;34m\"NULL\"\u001b[0m\u001b[1;33m)\u001b[0m\u001b[1;33m\u001b[0m\u001b[1;33m\u001b[0m\u001b[0m\n\u001b[0m\u001b[0;32m      2\u001b[0m \u001b[0mdetailed_frame\u001b[0m\u001b[1;33m[\u001b[0m\u001b[1;34m\"No_punct_description\"\u001b[0m\u001b[1;33m]\u001b[0m \u001b[1;33m=\u001b[0m \u001b[0mdetailed_frame\u001b[0m\u001b[1;33m[\u001b[0m\u001b[1;34m'Description'\u001b[0m\u001b[1;33m]\u001b[0m\u001b[1;33m.\u001b[0m\u001b[0mstr\u001b[0m\u001b[1;33m.\u001b[0m\u001b[0mreplace\u001b[0m\u001b[1;33m(\u001b[0m\u001b[1;34m'[^\\w\\s]'\u001b[0m\u001b[1;33m,\u001b[0m\u001b[1;34m''\u001b[0m\u001b[1;33m)\u001b[0m\u001b[1;33m\u001b[0m\u001b[1;33m\u001b[0m\u001b[0m\n",
      "\u001b[1;32m~\\anaconda3\\lib\\site-packages\\pandas\\core\\frame.py\u001b[0m in \u001b[0;36minsert\u001b[1;34m(self, loc, column, value, allow_duplicates)\u001b[0m\n\u001b[0;32m   4412\u001b[0m         \u001b[1;32mif\u001b[0m \u001b[1;32mnot\u001b[0m \u001b[0mallow_duplicates\u001b[0m \u001b[1;32mand\u001b[0m \u001b[0mcolumn\u001b[0m \u001b[1;32min\u001b[0m \u001b[0mself\u001b[0m\u001b[1;33m.\u001b[0m\u001b[0mcolumns\u001b[0m\u001b[1;33m:\u001b[0m\u001b[1;33m\u001b[0m\u001b[1;33m\u001b[0m\u001b[0m\n\u001b[0;32m   4413\u001b[0m             \u001b[1;31m# Should this be a different kind of error??\u001b[0m\u001b[1;33m\u001b[0m\u001b[1;33m\u001b[0m\u001b[0m\n\u001b[1;32m-> 4414\u001b[1;33m             \u001b[1;32mraise\u001b[0m \u001b[0mValueError\u001b[0m\u001b[1;33m(\u001b[0m\u001b[1;34mf\"cannot insert {column}, already exists\"\u001b[0m\u001b[1;33m)\u001b[0m\u001b[1;33m\u001b[0m\u001b[1;33m\u001b[0m\u001b[0m\n\u001b[0m\u001b[0;32m   4415\u001b[0m         \u001b[1;32mif\u001b[0m \u001b[1;32mnot\u001b[0m \u001b[0misinstance\u001b[0m\u001b[1;33m(\u001b[0m\u001b[0mloc\u001b[0m\u001b[1;33m,\u001b[0m \u001b[0mint\u001b[0m\u001b[1;33m)\u001b[0m\u001b[1;33m:\u001b[0m\u001b[1;33m\u001b[0m\u001b[1;33m\u001b[0m\u001b[0m\n\u001b[0;32m   4416\u001b[0m             \u001b[1;32mraise\u001b[0m \u001b[0mTypeError\u001b[0m\u001b[1;33m(\u001b[0m\u001b[1;34m\"loc must be int\"\u001b[0m\u001b[1;33m)\u001b[0m\u001b[1;33m\u001b[0m\u001b[1;33m\u001b[0m\u001b[0m\n",
      "\u001b[1;31mValueError\u001b[0m: cannot insert No_punct_description, already exists"
     ]
    }
   ],
   "source": [
    "detailed_frame.insert(4, 'No_punct_description', \"NULL\")\n",
    "detailed_frame[\"No_punct_description\"] = detailed_frame['Description'].str.replace('[^\\w\\s]','')"
   ]
  },
  {
   "cell_type": "code",
   "execution_count": 20,
   "id": "8f43b9c3",
   "metadata": {},
   "outputs": [],
   "source": [
    "detailed_frame.insert(5, 'has_restaurants', \"NULL\")\n",
    "word = \"restaurant\"\n",
    "detailed_frame['has_restaurants']=detailed_frame['Description'].apply(lambda x: (str(x).count(word)))"
   ]
  },
  {
   "cell_type": "code",
   "execution_count": 21,
   "id": "bcbe38fa",
   "metadata": {},
   "outputs": [],
   "source": [
    "detailed_frame.insert(6, 'has_museums', \"NULL\")\n",
    "word = \"museum\"\n",
    "detailed_frame['has_museums']=detailed_frame['Description'].apply(lambda x: (str(x).count(word)))"
   ]
  },
  {
   "cell_type": "code",
   "execution_count": 22,
   "id": "e1cadc17",
   "metadata": {},
   "outputs": [],
   "source": [
    "detailed_frame.insert(7, 'has_beaches', \"NULL\")\n",
    "words = ['beach', 'ocean', 'sea']\n",
    "detailed_frame['has_beaches']=detailed_frame['Description'].apply(lambda x : sum([str(x).count(word) for word in words]))"
   ]
  },
  {
   "cell_type": "code",
   "execution_count": 23,
   "id": "6a596049",
   "metadata": {},
   "outputs": [
    {
     "data": {
      "text/html": [
       "<div>\n",
       "<style scoped>\n",
       "    .dataframe tbody tr th:only-of-type {\n",
       "        vertical-align: middle;\n",
       "    }\n",
       "\n",
       "    .dataframe tbody tr th {\n",
       "        vertical-align: top;\n",
       "    }\n",
       "\n",
       "    .dataframe thead th {\n",
       "        text-align: right;\n",
       "    }\n",
       "</style>\n",
       "<table border=\"1\" class=\"dataframe\">\n",
       "  <thead>\n",
       "    <tr style=\"text-align: right;\">\n",
       "      <th></th>\n",
       "      <th>City</th>\n",
       "      <th>Country</th>\n",
       "      <th>Description</th>\n",
       "      <th>num_of_words</th>\n",
       "      <th>No_punct_description</th>\n",
       "      <th>has_restaurants</th>\n",
       "      <th>has_museums</th>\n",
       "      <th>has_beaches</th>\n",
       "    </tr>\n",
       "  </thead>\n",
       "  <tbody>\n",
       "    <tr>\n",
       "      <th>0</th>\n",
       "      <td>Antalya</td>\n",
       "      <td>Turkey</td>\n",
       "      <td>Once seen simply as the gateway to the Turkish...</td>\n",
       "      <td>112</td>\n",
       "      <td>Once seen simply as the gateway to the Turkish...</td>\n",
       "      <td>0</td>\n",
       "      <td>1</td>\n",
       "      <td>1</td>\n",
       "    </tr>\n",
       "    <tr>\n",
       "      <th>1</th>\n",
       "      <td>Athens</td>\n",
       "      <td>Greece</td>\n",
       "      <td>With equal measures of grunge and grace, Athen...</td>\n",
       "      <td>393</td>\n",
       "      <td>With equal measures of grunge and grace Athens...</td>\n",
       "      <td>1</td>\n",
       "      <td>0</td>\n",
       "      <td>2</td>\n",
       "    </tr>\n",
       "    <tr>\n",
       "      <th>2</th>\n",
       "      <td>Ayia-napa</td>\n",
       "      <td>Cyprus</td>\n",
       "      <td>Endless blue-sky days and a coastline riddled ...</td>\n",
       "      <td>147</td>\n",
       "      <td>Endless bluesky days and a coastline riddled w...</td>\n",
       "      <td>0</td>\n",
       "      <td>0</td>\n",
       "      <td>2</td>\n",
       "    </tr>\n",
       "    <tr>\n",
       "      <th>3</th>\n",
       "      <td>Bangkok</td>\n",
       "      <td>Thailand</td>\n",
       "      <td>Same same, but different. This Thailish T-shir...</td>\n",
       "      <td>390</td>\n",
       "      <td>Same same but different This Thailish Tshirt p...</td>\n",
       "      <td>1</td>\n",
       "      <td>0</td>\n",
       "      <td>0</td>\n",
       "    </tr>\n",
       "    <tr>\n",
       "      <th>4</th>\n",
       "      <td>Barcelona</td>\n",
       "      <td>Spain</td>\n",
       "      <td>Barcelona is an enchanting seaside city with b...</td>\n",
       "      <td>419</td>\n",
       "      <td>Barcelona is an enchanting seaside city with b...</td>\n",
       "      <td>1</td>\n",
       "      <td>2</td>\n",
       "      <td>7</td>\n",
       "    </tr>\n",
       "    <tr>\n",
       "      <th>...</th>\n",
       "      <td>...</td>\n",
       "      <td>...</td>\n",
       "      <td>...</td>\n",
       "      <td>...</td>\n",
       "      <td>...</td>\n",
       "      <td>...</td>\n",
       "      <td>...</td>\n",
       "      <td>...</td>\n",
       "    </tr>\n",
       "    <tr>\n",
       "      <th>71</th>\n",
       "      <td>Venice</td>\n",
       "      <td>Italy</td>\n",
       "      <td>Imagine the audacity of building a city of mar...</td>\n",
       "      <td>412</td>\n",
       "      <td>Imagine the audacity of building a city of mar...</td>\n",
       "      <td>0</td>\n",
       "      <td>0</td>\n",
       "      <td>2</td>\n",
       "    </tr>\n",
       "    <tr>\n",
       "      <th>72</th>\n",
       "      <td>Vienna</td>\n",
       "      <td>Austria</td>\n",
       "      <td>Baroque streetscapes and imperial palaces set ...</td>\n",
       "      <td>410</td>\n",
       "      <td>Baroque streetscapes and imperial palaces set ...</td>\n",
       "      <td>1</td>\n",
       "      <td>3</td>\n",
       "      <td>0</td>\n",
       "    </tr>\n",
       "    <tr>\n",
       "      <th>73</th>\n",
       "      <td>Warsaw</td>\n",
       "      <td>Poland</td>\n",
       "      <td>A phoenix arisen from the ashes, Poland's capi...</td>\n",
       "      <td>406</td>\n",
       "      <td>A phoenix arisen from the ashes Polands capita...</td>\n",
       "      <td>1</td>\n",
       "      <td>2</td>\n",
       "      <td>1</td>\n",
       "    </tr>\n",
       "    <tr>\n",
       "      <th>74</th>\n",
       "      <td>Zakynthos</td>\n",
       "      <td>Greece</td>\n",
       "      <td>Zakynthos, also known by its Italian name Zant...</td>\n",
       "      <td>118</td>\n",
       "      <td>Zakynthos also known by its Italian name Zante...</td>\n",
       "      <td>0</td>\n",
       "      <td>0</td>\n",
       "      <td>0</td>\n",
       "    </tr>\n",
       "    <tr>\n",
       "      <th>75</th>\n",
       "      <td>Zurich</td>\n",
       "      <td>Switzerland</td>\n",
       "      <td>Culturally vibrant, efficiently run and attrac...</td>\n",
       "      <td>119</td>\n",
       "      <td>Culturally vibrant efficiently run and attract...</td>\n",
       "      <td>0</td>\n",
       "      <td>0</td>\n",
       "      <td>0</td>\n",
       "    </tr>\n",
       "  </tbody>\n",
       "</table>\n",
       "<p>76 rows × 8 columns</p>\n",
       "</div>"
      ],
      "text/plain": [
       "         City      Country                                        Description  \\\n",
       "0     Antalya       Turkey  Once seen simply as the gateway to the Turkish...   \n",
       "1      Athens       Greece  With equal measures of grunge and grace, Athen...   \n",
       "2   Ayia-napa       Cyprus  Endless blue-sky days and a coastline riddled ...   \n",
       "3     Bangkok     Thailand  Same same, but different. This Thailish T-shir...   \n",
       "4   Barcelona        Spain  Barcelona is an enchanting seaside city with b...   \n",
       "..        ...          ...                                                ...   \n",
       "71     Venice        Italy  Imagine the audacity of building a city of mar...   \n",
       "72     Vienna      Austria  Baroque streetscapes and imperial palaces set ...   \n",
       "73     Warsaw       Poland  A phoenix arisen from the ashes, Poland's capi...   \n",
       "74  Zakynthos       Greece  Zakynthos, also known by its Italian name Zant...   \n",
       "75     Zurich  Switzerland  Culturally vibrant, efficiently run and attrac...   \n",
       "\n",
       "    num_of_words                               No_punct_description  \\\n",
       "0            112  Once seen simply as the gateway to the Turkish...   \n",
       "1            393  With equal measures of grunge and grace Athens...   \n",
       "2            147  Endless bluesky days and a coastline riddled w...   \n",
       "3            390  Same same but different This Thailish Tshirt p...   \n",
       "4            419  Barcelona is an enchanting seaside city with b...   \n",
       "..           ...                                                ...   \n",
       "71           412  Imagine the audacity of building a city of mar...   \n",
       "72           410  Baroque streetscapes and imperial palaces set ...   \n",
       "73           406  A phoenix arisen from the ashes Polands capita...   \n",
       "74           118  Zakynthos also known by its Italian name Zante...   \n",
       "75           119  Culturally vibrant efficiently run and attract...   \n",
       "\n",
       "    has_restaurants  has_museums  has_beaches  \n",
       "0                 0            1            1  \n",
       "1                 1            0            2  \n",
       "2                 0            0            2  \n",
       "3                 1            0            0  \n",
       "4                 1            2            7  \n",
       "..              ...          ...          ...  \n",
       "71                0            0            2  \n",
       "72                1            3            0  \n",
       "73                1            2            1  \n",
       "74                0            0            0  \n",
       "75                0            0            0  \n",
       "\n",
       "[76 rows x 8 columns]"
      ]
     },
     "execution_count": 23,
     "metadata": {},
     "output_type": "execute_result"
    }
   ],
   "source": [
    "detailed_frame"
   ]
  },
  {
   "cell_type": "code",
   "execution_count": 91,
   "id": "327c7d18",
   "metadata": {},
   "outputs": [],
   "source": [
    "detailed_frame.to_csv(r\"C:\\Users\\David Sofer\\Desktop\\David\\python\\task6.csv\")"
   ]
  },
  {
   "cell_type": "code",
   "execution_count": 32,
   "id": "fce9a06c",
   "metadata": {},
   "outputs": [
    {
     "data": {
      "text/plain": [
       "mean    263.894737\n",
       "Name: num_of_words, dtype: float64"
      ]
     },
     "execution_count": 32,
     "metadata": {},
     "output_type": "execute_result"
    }
   ],
   "source": [
    "detailed_frame['num_of_words'].agg(['mean'])"
   ]
  },
  {
   "cell_type": "markdown",
   "id": "16671a1f",
   "metadata": {},
   "source": [
    "The average number of word in the description column is 263.89"
   ]
  },
  {
   "cell_type": "code",
   "execution_count": 68,
   "id": "ae24d311",
   "metadata": {},
   "outputs": [
    {
     "data": {
      "text/plain": [
       "515"
      ]
     },
     "execution_count": 68,
     "metadata": {},
     "output_type": "execute_result"
    }
   ],
   "source": [
    "detailed_frame['num_of_words'].max()"
   ]
  },
  {
   "cell_type": "code",
   "execution_count": 70,
   "id": "28ca806c",
   "metadata": {},
   "outputs": [
    {
     "data": {
      "text/plain": [
       "28    Florence\n",
       "Name: City, dtype: object"
      ]
     },
     "execution_count": 70,
     "metadata": {},
     "output_type": "execute_result"
    }
   ],
   "source": [
    "x = detailed_frame['num_of_words'].idxmax()\n",
    "detailed_frame['City'].iloc[[x]]"
   ]
  },
  {
   "cell_type": "code",
   "execution_count": 76,
   "id": "9df0f981",
   "metadata": {},
   "outputs": [
    {
     "data": {
      "text/plain": [
       "<AxesSubplot:>"
      ]
     },
     "execution_count": 76,
     "metadata": {},
     "output_type": "execute_result"
    },
    {
     "data": {
      "image/png": "[encoded data removed]",
      "text/plain": [
       "<Figure size 432x288 with 1 Axes>"
      ]
     },
     "metadata": {
      "needs_background": "light"
     },
     "output_type": "display_data"
    }
   ],
   "source": [
    "detailed_frame['num_of_words'].hist()"
   ]
  },
  {
   "cell_type": "code",
   "execution_count": 88,
   "id": "ee03c73d",
   "metadata": {},
   "outputs": [
    {
     "data": {
      "image/png": "[encoded data removed]",
      "text/plain": [
       "<Figure size 432x288 with 1 Axes>"
      ]
     },
     "metadata": {
      "needs_background": "light"
     },
     "output_type": "display_data"
    }
   ],
   "source": [
    "import matplotlib.pyplot as plt\n",
    "x = detailed_frame['has_beaches']\n",
    "y= detailed_frame['has_restaurants']\n",
    "colors = np.random.rand(76)\n",
    "area = (30 * np.random.rand(76))**2\n",
    "plt.scatter(x, y, alpha=0.5, c = colors, s = area)\n",
    "plt.xlabel('Number of beaches')\n",
    "plt.ylabel('Number of restaurants')\n",
    "plt.title('Beaches vs Restaurants')\n",
    "plt.show()"
   ]
  },
  {
   "cell_type": "code",
   "execution_count": 89,
   "id": "380ea19b",
   "metadata": {},
   "outputs": [
    {
     "data": {
      "image/png": "[encoded data removed]",
      "text/plain": [
       "<Figure size 432x288 with 1 Axes>"
      ]
     },
     "metadata": {
      "needs_background": "light"
     },
     "output_type": "display_data"
    }
   ],
   "source": [
    "x = detailed_frame['has_museums']\n",
    "y= detailed_frame['has_beaches']\n",
    "colors = np.random.rand(76)\n",
    "area = (30 * np.random.rand(76))**2\n",
    "plt.scatter(x, y, alpha=0.5, c = colors, s = area)\n",
    "plt.xlabel('Number of museums')\n",
    "plt.ylabel('Number of beaches')\n",
    "plt.title('Museums vs Beaches')\n",
    "plt.show()"
   ]
  }
 ],
 "metadata": {
  "kernelspec": {
   "display_name": "Python 3 (ipykernel)",
   "language": "python",
   "name": "python3"
  },
  "language_info": {
   "codemirror_mode": {
    "name": "ipython",
    "version": 3
   },
   "file_extension": ".py",
   "mimetype": "text/x-python",
   "name": "python",
   "nbconvert_exporter": "python",
   "pygments_lexer": "ipython3",
   "version": "3.9.7"
  }
 },
 "nbformat": 4,
 "nbformat_minor": 5
}
